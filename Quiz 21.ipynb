{
  "nbformat": 4,
  "nbformat_minor": 0,
  "metadata": {
    "colab": {
      "name": "Untitled3.ipynb",
      "provenance": [],
      "include_colab_link": true
    },
    "kernelspec": {
      "name": "python3",
      "display_name": "Python 3"
    },
    "language_info": {
      "name": "python"
    }
  },
  "cells": [
    {
      "cell_type": "markdown",
      "metadata": {
        "id": "view-in-github",
        "colab_type": "text"
      },
      "source": [
        "<a href=\"https://colab.research.google.com/github/BimalShrestha/data-process-and-visualization-/blob/main/Quiz%2021.ipynb\" target=\"_parent\"><img src=\"https://colab.research.google.com/assets/colab-badge.svg\" alt=\"Open In Colab\"/></a>"
      ]
    },
    {
      "cell_type": "markdown",
      "source": [
        "##Quiz 21\n",
        "## Bimal Shrestha"
      ],
      "metadata": {
        "id": "713mr0ZHH6_q"
      }
    },
    {
      "cell_type": "markdown",
      "source": [
        "1.Examine John Examine John Snow's map of cholera outbreak in 1854 for 'graphical excellence'. Discuss the highlights of the graphic.\n",
        ": John snow presented 2 maps for the 1854 cholera outbreak in London. The pump was not in the right location in the first map and he rectified his mistake in the 2nd map. He depite not being a cartographer, did very well in presenting a visual overview with his original maps.\n",
        "\n",
        "\n",
        "\n",
        "\n"
      ],
      "metadata": {
        "id": "ReqL7llkEn3P"
      }
    },
    {
      "cell_type": "markdown",
      "source": [
        "2.Find a modern reference and dicuss the excellence displayed. Include a link and image in your report."
      ],
      "metadata": {
        "id": "3ugPI-62CtKE"
      }
    },
    {
      "cell_type": "markdown",
      "source": [
        "The link for the graphical visualization is here. \n",
        "https://www.theguardian.com/news/datablog/2013/mar/15/john-snow-cholera-map\n",
        "\n",
        "\n"
      ],
      "metadata": {
        "id": "8O7zL71HFMy_"
      }
    },
    {
      "cell_type": "markdown",
      "source": [
        "![john Snow](https://upload.wikimedia.org/wikipedia/commons/2/27/Snow-cholera-map-1.jpg)"
      ],
      "metadata": {
        "id": "R5El93RGA9ue"
      }
    }
  ]
}