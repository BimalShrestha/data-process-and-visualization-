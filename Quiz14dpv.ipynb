{
  "nbformat": 4,
  "nbformat_minor": 0,
  "metadata": {
    "colab": {
      "name": "Quiz14.ipynb",
      "provenance": [],
      "collapsed_sections": [],
      "include_colab_link": true
    },
    "kernelspec": {
      "name": "python3",
      "display_name": "Python 3"
    },
    "language_info": {
      "name": "python"
    }
  },
  "cells": [
    {
      "cell_type": "markdown",
      "metadata": {
        "id": "view-in-github",
        "colab_type": "text"
      },
      "source": [
        "<a href=\"https://colab.research.google.com/github/BimalShrestha/data-process-and-visualization-/blob/main/Quiz14dpv.ipynb\" target=\"_parent\"><img src=\"https://colab.research.google.com/assets/colab-badge.svg\" alt=\"Open In Colab\"/></a>"
      ]
    },
    {
      "cell_type": "markdown",
      "source": [
        "## Data Processing Visualization\n",
        "Bimal Shrestha"
      ],
      "metadata": {
        "id": "JnqCdbxMo82R"
      }
    },
    {
      "cell_type": "markdown",
      "source": [
        "Write a program to print the Happy Birthday song"
      ],
      "metadata": {
        "id": "2-30WBMNpQhC"
      }
    },
    {
      "cell_type": "code",
      "source": [
        "song = \"\"\" Happy Birthday to You, Happy Birthday to You, Happy Birthday Dear %a, Happy Birthday to You.\"\"\" %('Bimal')"
      ],
      "metadata": {
        "id": "b4ia8EE3quij"
      },
      "execution_count": 1,
      "outputs": []
    },
    {
      "cell_type": "code",
      "source": [
        "song"
      ],
      "metadata": {
        "colab": {
          "base_uri": "https://localhost:8080/",
          "height": 35
        },
        "id": "nMEYcslfpwLp",
        "outputId": "adfa61b1-9b44-498e-b323-8b3ef6cf192b"
      },
      "execution_count": 2,
      "outputs": [
        {
          "output_type": "execute_result",
          "data": {
            "application/vnd.google.colaboratory.intrinsic+json": {
              "type": "string"
            },
            "text/plain": [
              "\" Happy Birthday to You, Happy Birthday to You, Happy Birthday Dear 'Bimal', Happy Birthday to You.\""
            ]
          },
          "metadata": {},
          "execution_count": 2
        }
      ]
    }
  ]
}